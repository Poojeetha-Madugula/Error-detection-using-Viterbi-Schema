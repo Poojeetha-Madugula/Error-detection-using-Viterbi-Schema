{
 "cells": [
  {
   "cell_type": "markdown",
   "metadata": {
    "id": "NgK32ZhnwlKA"
   },
   "source": [
    "**Perform the Encoding**\n",
    "\n"
   ]
  },
  {
   "cell_type": "code",
   "execution_count": null,
   "metadata": {
    "colab": {
     "base_uri": "https://localhost:8080/"
    },
    "id": "R3v8xub8gGzh",
    "outputId": "0227826d-7e0b-4202-a2b0-64fd59365d48"
   },
   "outputs": [
    {
     "name": "stdout",
     "output_type": "stream",
     "text": [
      "Original message: [1 1 0 0 0 1 1 1 1 1 0 1 1 1 0 1 1 0 0 1 1 1 0 0 0 0 0 1 0 0 1 0 0 1 1 0 0\n",
      " 0 1 1 0 0 1 1 0 1 1 1 1 1 0 1 1 0 1 1 0 1 1 0 0 0 0 1 1 1 0 0 0 0 0 0 1 1\n",
      " 1 1 1 0 0 1 1 0 0 1 1 0 0 0 1 0 1 0 0 1 0 1 0 0 1 1]\n",
      "Encoded message: [35 74 35  0 35 74 35  0  0  0  0  0  0  0  0  0  0  0  0  0 35 74 35  0\n",
      " 35 74 35  0 35 74 35  0 35 74 35  0 35 74 35  0  0  0  0  0 35 74 35  0\n",
      " 35 74 35  0 35 74 35  0  0  0  0  0 35 74 35  0 35 74 35  0  0  0  0  0\n",
      "  0  0  0  0 35 74 35  0 35 74 35  0 35 74 35  0  0  0  0  0  0  0  0  0\n",
      "  0  0  0  0  0  0  0  0  0  0  0  0 35 74 35  0  0  0  0  0  0  0  0  0\n",
      " 35 74 35  0  0  0  0  0  0  0  0  0 35 74 35  0 35 74 35  0  0  0  0  0\n",
      "  0  0  0  0  0  0  0  0 35 74 35  0 35 74 35  0  0  0  0  0  0  0  0  0\n",
      " 35 74 35  0 35 74 35  0  0  0  0  0 35 74 35  0 35 74 35  0 35 74 35  0\n",
      " 35 74 35  0 35 74 35  0  0  0  0  0 35 74 35  0 35 74 35  0  0  0  0  0\n",
      " 35 74 35  0 35 74 35  0  0  0  0  0 35 74 35  0 35 74 35  0  0  0  0  0\n",
      "  0  0  0  0  0  0  0  0  0  0  0  0 35 74 35  0 35 74 35  0 35 74 35  0\n",
      "  0  0  0  0  0  0  0  0  0  0  0  0  0  0  0  0  0  0  0  0  0  0  0  0\n",
      " 35 74 35  0 35 74 35  0 35 74 35  0 35 74 35  0 35 74 35  0  0  0  0  0\n",
      "  0  0  0  0 35 74 35  0 35 74 35  0  0  0  0  0  0  0  0  0 35 74 35  0\n",
      " 35 74 35  0  0  0  0  0  0  0  0  0  0  0  0  0 35 74 35  0  0  0  0  0\n",
      " 35 74 35  0  0  0  0  0  0  0  0  0 35 74 35  0  0  0  0  0 35 74 35  0\n",
      "  0  0  0  0  0  0  0  0 35 74 35  0 35 74 35  0]\n"
     ]
    }
   ],
   "source": [
    "import numpy as np\n",
    "from scipy import signal\n",
    "\n",
    "# create a convolutional code with constraint length 3 and rate 1/2\n",
    "g1 = np.array([5, 7], dtype=int)\n",
    "g2 = np.array([7, 5], dtype=int)\n",
    "ccode_3 = signal.convolve(g1, g2)\n",
    "\n",
    "# create a convolutional code with constraint length 5 and rate 1/2\n",
    "g1 = np.array([21, 27, 31, 23], dtype=int)\n",
    "g2 = np.array([7, 25, 29, 19], dtype=int)\n",
    "ccode_5 = signal.convolve(g1, g2)\n",
    "\n",
    "# function to encode a message using a convolutional code\n",
    "def conv_encode(message, ccode):\n",
    "    encoded = []\n",
    "    state = np.zeros(len(ccode)-1, dtype=int)\n",
    "    for bit in message:\n",
    "        in_bits = np.array([bit, state[0]], dtype=int)\n",
    "        out_bits, state = signal.convolve(in_bits, ccode, 'full'), np.roll(state, 1)\n",
    "        encoded.extend(list(out_bits))\n",
    "    return np.array(encoded)\n",
    "    \n",
    "# generate random messages of length 100\n",
    "message = np.random.randint(2, size=(100,))\n",
    "\n",
    "# encode messages using the two different convolutional codes\n",
    "encoded_3 = conv_encode(message, ccode_3)\n",
    "encoded_5 = conv_encode(message, ccode_5)\n",
    "\n",
    "print(f'Original message: {message}')\n",
    "encoded = conv_encode(message, ccode_3)\n",
    "print(f'Encoded message: {encoded}')\n"
   ]
  },
  {
   "cell_type": "markdown",
   "metadata": {
    "id": "88KogH1ewpl9"
   },
   "source": [
    "**Introduce Errors ad Decode with Viterbi.**\n"
   ]
  },
  {
   "cell_type": "code",
   "execution_count": null,
   "metadata": {
    "colab": {
     "base_uri": "https://localhost:8080/"
    },
    "id": "MHOwUykpwWDM",
    "outputId": "0f044946-de45-4b27-a32a-4b8f9938ab54"
   },
   "outputs": [
    {
     "name": "stdout",
     "output_type": "stream",
     "text": [
      "Decoding failed with 1 errors.\n"
     ]
    }
   ],
   "source": [
    "# introduce increasing numbers of errors to the encoded strings\n",
    "max_errors = 10\n",
    "for num_errors in range(1, max_errors+1):\n",
    "    # create a copy of the encoded strings to modify\n",
    "    encoded_3_noisy = encoded_3.copy()\n",
    "    encoded_5_noisy = encoded_5.copy()\n",
    "    \n",
    "    # randomly select num_errors indices to flip\n",
    "    error_indices = np.random.choice(len(encoded_3), size=num_errors, replace=False)\n",
    "    \n",
    "    # flip the bits at the error indices\n",
    "    for i in error_indices:\n",
    "        encoded_3_noisy[i] = 1 - encoded_3_noisy[i]\n",
    "        encoded_5_noisy[i] = 1 - encoded_5_noisy[i]\n",
    "    \n",
    "    # decode the noisy codewords using the Viterbi algorithm\n",
    "    decoded_3 = signal.convolve(encoded_3_noisy, np.flip(ccode_3), mode='valid')\n",
    "    decoded_5 = signal.convolve(encoded_5_noisy, np.flip(ccode_5), mode='valid')\n",
    "\n",
    "     # compare the decoded messages to the original messages\n",
    "    if np.array_equal(decoded_3, message) and np.array_equal(decoded_5, message):\n",
    "        print(f'Successful decoding with {num_errors} errors.')\n",
    "    else:\n",
    "        print(f'Decoding failed with {num_errors} errors.')\n",
    "        break\n"
   ]
  },
  {
   "cell_type": "code",
   "execution_count": null,
   "metadata": {
    "colab": {
     "base_uri": "https://localhost:8080/"
    },
    "id": "163sywAawH3H",
    "outputId": "e7962796-f0d5-42d9-d170-657f3bb0a17e"
   },
   "outputs": [
    {
     "name": "stdout",
     "output_type": "stream",
     "text": [
      "Number of errors: 1\n",
      "Decoded messages (constraint length 3): [7926 5180 2450 5180 7926 5180 1225    0    0    0    0    0    0    0\n",
      "    0    0    0    0 1225 5180 7926 5180 2450 5180 7926 5180 2450 5180\n",
      " 7926 5180 2450 5180 7926 5180 2450 5180 7926 5180 1225    0    0    0\n",
      " 1225 5180 7926 5180 2450 5180 7926 5180 2450 5180 7926 5180 1225    0\n",
      "    0    0 1225 5180 7926 5180 2450 5180 7926 5180 1225    0    0    0\n",
      "    0    0    0    0 1225 5180 7926 5180 2450 5180 7926 5180 2450 5180\n",
      " 7926 5180 1225    0    0    0    0    0    0    0    0    0    0    0\n",
      "    0    0    0    0    0    0    0    0 1225 5180 7926 5180 1225    0\n",
      "    0    0    0    0    0    0 1225 5180 7926 5180 1225    0    0    0\n",
      "    0    0    0    0 1225 5180 7926 5180 2450 5180 7926 5180 1225    0\n",
      "    0    0    0    0    0    0    0    0    0    0 1225 5180 7926 5180\n",
      " 2450 5180 7926 5180 1225    0    0    0    0    0    0    0 1225 5180\n",
      " 7926 5180 2450 5180 7926 5180 1225    0    0    0 1225 5180 7926 5180\n",
      " 2450 5180 7926 5180 2450 5180 7926 5180 2450 5180 7926 5180 2450 5180\n",
      " 7926 5180 1225    0    0    0 1225 5180 7926 5180 2450 5180 7926 5180\n",
      " 1225    0    0    0 1225 5180 7926 5180 2450 5180 7926 5180 1225    0\n",
      "    0    0 1225 5180 7926 5180 2450 5180 7926 5180 1225    0    0    0\n",
      "    0    0    0    0    0    0    0    0    0   35   74   35 1225 5180\n",
      " 7926 5180 2450 5180 7926 5180 2450 5180 7926 5180 1225    0    0    0\n",
      "    0    0    0    0    0    0    0    0    0    0    0    0    0    0\n",
      "    0    0    0    0    0    0 1225 5180 7926 5180 2450 5180 7926 5180\n",
      " 2450 5180 7926 5180 2450 5180 7926 5180 2450 5180 7926 5180 1225    0\n",
      "    0    0    0    0    0    0 1225 5180 7926 5180 2450 5180 7926 5180\n",
      " 1225    0    0    0    0    0    0    0 1225 5180 7926 5180 2450 5180\n",
      " 7926 5180 1225    0    0    0    0    0    0    0    0    0    0    0\n",
      " 1225 5180 7926 5180 1225    0    0    0 1225 5180 7926 5180 1225    0\n",
      "    0    0    0    0    0    0 1225 5180 7926 5180 1225    0    0    0\n",
      " 1225 5180 7926 5180 1225    0    0    0    0    0    0    0 1225 5180\n",
      " 7926 5180 2450 5180 7926 5180]\n",
      "Decoded messages (constraint length 5): [12987004 11608800  8308152  5037536  3689620  5037536  8308152 11608800\n",
      " 12987004 11608800  8243913  4540886  1844810   496650    64239        0\n",
      "        0        0        0        0        0        0        0        0\n",
      "        0        0        0        0        0        0        0        0\n",
      "        0        0    64239   496650  1844810  4540886  8243913 11608800\n",
      " 12987004 11608800  8308152  5037536  3689620  5037536  8308152 11608800\n",
      " 12987004 11608800  8308152  5037536  3689620  5037536  8308152 11608800\n",
      " 12987004 11608800  8308152  5037536  3689620  5037536  8308152 11608800\n",
      " 12987004 11608800  8308152  5037536  3689620  5037536  8308152 11608800\n",
      " 12987004 11608800  8243913  4540886  1844810   496650    64239        0\n",
      "        0        0    64239   496650  1844810  4540886  8243913 11608800\n",
      " 12987004 11608800  8308152  5037536  3689620  5037536  8308152 11608800\n",
      " 12987004 11608800  8308152  5037536  3689620  5037536  8308152 11608800\n",
      " 12987004 11608800  8243913  4540886  1844810   496650    64239        0\n",
      "        0        0    64239   496650  1844810  4540886  8243913 11608800\n",
      " 12987004 11608800  8308152  5037536  3689620  5037536  8308152 11608800\n",
      " 12987004 11608800  8243913  4540886  1844810   496650    64239        0\n",
      "        0        0        0        0        0        0        0        0\n",
      "        0        0    64239   496650  1844810  4540886  8243913 11608800\n",
      " 12987004 11608800  8308152  5037536  3689620  5037536  8308152 11608800\n",
      " 12987004 11608800  8308152  5037536  3689620  5037536  8308152 11608800\n",
      " 12987004 11608800  8243913  4540886  1844810   496650    64239        0\n",
      "        0        0        0        0        0        0        0        0\n",
      "        0        0        0        0        0        0        0        0\n",
      "        0        0        0        0        0        0        0        0\n",
      "        0        0        0        0        0        0        0        0\n",
      "        0        0    64239   496650  1844810  4540886  8243913 11608800\n",
      " 12987004 11608800  8243913  4540886  1844810   496650    64239        0\n",
      "        0        0        0        0        0        0        0        0\n",
      "        0        0    64239   496650  1844810  4540886  8243913 11608800\n",
      " 12987004 11608800  8243913  4541323  1846066   498637    66357     1501\n",
      "      714      147        0        0        0        0        0        0\n",
      "        0        0    64239   496650  1844810  4540886  8243913 11608800\n",
      " 12987004 11608800  8308152  5037536  3689620  5037536  8308152 11608800\n",
      " 12987004 11608800  8243913  4540886  1844810   496650    64239        0\n",
      "        0        0        0        0        0        0        0        0\n",
      "        0        0        0        0        0        0        0        0\n",
      "        0        0    64239   496650  1844810  4540886  8243913 11608800\n",
      " 12987004 11608800  8308152  5037536  3689620  5037536  8308152 11608800\n",
      " 12987004 11608800  8243913  4540886  1844810   496650    64239        0\n",
      "        0        0        0        0        0        0        0        0\n",
      "        0        0    64239   496650  1844810  4540886  8243913 11608800\n",
      " 12987004 11608800  8308152  5037536  3689620  5037536  8308152 11608800\n",
      " 12987004 11608800  8243913  4540886  1844810   496650    64239        0\n",
      "        0        0    64239   496650  1844810  4540886  8243913 11608800\n",
      " 12987004 11608800  8308152  5037536  3689620  5037536  8308152 11608800\n",
      " 12987004 11608800  8308152  5037536  3689620  5037536  8308152 11608800\n",
      " 12987004 11608800  8308152  5037536  3689620  5037536  8308152 11608800\n",
      " 12987004 11608800  8308152  5037536  3689620  5037536  8308152 11608800\n",
      " 12987004 11608800  8243913  4540886  1844810   496650    64239        0\n",
      "        0        0    64239   496650  1844810  4540886  8243913 11608800\n",
      " 12987004 11608800  8308152  5037536  3689620  5037536  8308152 11608800\n",
      " 12987004 11608800  8243913  4540886  1844810   496650    64239        0\n",
      "        0        0    64239   496650  1844810  4540886  8243913 11608800\n",
      " 12987004 11608800  8308152  5037536  3689620  5037536  8308152 11608800\n",
      " 12987004 11608800  8243913  4540886  1844810   496650    64239        0\n",
      "        0        0    64239   496650  1844810  4540886  8243913 11608800\n",
      " 12987004 11608800  8308152  5037536  3689620  5037536  8308152 11608800\n",
      " 12987004 11608800  8243913  4540886  1844810   496650    64239        0\n",
      "        0        0        0        0        0        0        0        0\n",
      "        0        0        0        0        0        0        0        0\n",
      "        0        0        0        0        0        0        0        0\n",
      "        0        0    64239   496650  1844810  4540886  8243913 11608800\n",
      " 12987004 11608800  8308152  5037536  3689620  5037536  8308152 11608800\n",
      " 12987004 11608800  8308152  5037536  3689620  5037536  8308152 11608800\n",
      " 12987004 11608800  8243913  4540886  1844810   496650    64239        0\n",
      "        0        0        0        0        0        0        0        0\n",
      "        0        0        0        0        0        0        0        0\n",
      "        0        0        0        0        0        0        0        0\n",
      "        0        0        0        0        0        0        0        0\n",
      "        0        0        0        0        0        0        0        0\n",
      "        0        0    64239   496650  1844810  4540886  8243913 11608800\n",
      " 12987004 11608800  8308152  5037536  3689620  5037536  8308152 11608800\n",
      " 12987004 11608800  8308152  5037536  3689620  5037536  8308152 11608800\n",
      " 12987004 11608800  8308152  5037536  3689620  5037536  8308152 11608800\n",
      " 12987004 11608800  8308152  5037536  3689620  5037536  8308152 11608800\n",
      " 12987004 11608800  8243913  4540886  1844810   496650    64239        0\n",
      "        0        0        0        0        0        0        0        0\n",
      "        0        0    64239   496650  1844810  4540886  8243913 11608800\n",
      " 12987004 11608800  8308152  5037536  3689620  5037536  8308152 11608800\n",
      " 12987004 11608800  8243913  4540886  1844810   496650    64239        0\n",
      "        0        0        0        0        0        0        0        0\n",
      "        0        0    64239   496650  1844810  4540886  8243913 11608800\n",
      " 12987004 11608800  8308152  5037536  3689620  5037536  8308152 11608800\n",
      " 12987004 11608800  8243913  4540886  1844810   496650    64239        0\n",
      "        0        0        0        0        0        0        0        0\n",
      "        0        0        0        0        0        0        0        0\n",
      "        0        0    64239   496650  1844810  4540886  8243913 11608800\n",
      " 12987004 11608800  8243913  4540886  1844810   496650    64239        0\n",
      "        0        0    64239   496650  1844810  4540886  8243913 11608800\n",
      " 12987004 11608800  8243913  4540886  1844810   496650    64239        0\n",
      "        0        0        0        0        0        0        0        0\n",
      "        0        0    64239   496650  1844810  4540886  8243913 11608800\n",
      " 12987004 11608800  8243913  4540886  1844810   496650    64239        0\n",
      "        0        0    64239   496650  1844810  4540886  8243913 11608800\n",
      " 12987004 11608800  8243913  4540886  1844810   496650    64239        0\n",
      "        0        0        0        0        0        0        0        0\n",
      "        0        0    64239   496650  1844810  4540886  8243913 11608800\n",
      " 12987004 11608800  8308152  5037536  3689620  5037536  8308152 11608800\n",
      " 12987004 11608800]\n",
      "\n"
     ]
    }
   ],
   "source": [
    " # compare the decoded messages to the original messages\n",
    "print(f'Number of errors: {num_errors}')\n",
    "print('Decoded messages (constraint length 3):', decoded_3)\n",
    "print('Decoded messages (constraint length 5):', decoded_5)\n",
    "print('')"
   ]
  },
  {
   "cell_type": "code",
   "execution_count": null,
   "metadata": {
    "colab": {
     "base_uri": "https://localhost:8080/"
    },
    "id": "A3ZZ7DKn8EKY",
    "outputId": "5123d846-9a97-4820-83bc-b6f6ba0e04bc"
   },
   "outputs": [
    {
     "name": "stdout",
     "output_type": "stream",
     "text": [
      "Decoding failed with 10 errors.\n",
      "Decoding failed with 10 errors.\n",
      "The failure rates of the two convolutional codes are the same.\n"
     ]
    }
   ],
   "source": [
    "# function to simulate noisy channel and decode received message using Viterbi algorithm\n",
    "def simulate_channel_and_decode(encoded, ccode):\n",
    "    max_errors = 10\n",
    "    for num_errors in range(1, max_errors+1):\n",
    "        # create a copy of the encoded string to modify\n",
    "        encoded_noisy = encoded.copy()\n",
    "\n",
    "        # randomly select num_errors indices to flip\n",
    "        error_indices = np.random.choice(len(encoded), size=num_errors, replace=False)\n",
    "\n",
    "        # flip the bits at the error indices\n",
    "        for i in error_indices:\n",
    "            encoded_noisy[i] = 1 - encoded_noisy[i]\n",
    "\n",
    "        # decode the noisy codeword using the Viterbi algorithm\n",
    "        decoded = signal.convolve(encoded_noisy, np.flip(ccode), mode='valid')\n",
    "\n",
    "        # compare the decoded message to the original message\n",
    "        if np.array_equal(decoded, message):\n",
    "            print(f'Successful decoding with {num_errors} errors.')\n",
    "            return True\n",
    "    print(f'Decoding failed with {max_errors} errors.')\n",
    "    return False\n",
    "# simulate noisy channel and decode received message using Viterbi algorithm for both codes\n",
    "success_3 = simulate_channel_and_decode(encoded_3, ccode_3)\n",
    "success_5 = simulate_channel_and_decode(encoded_5, ccode_5)\n",
    "\n",
    "# compare failure rates of the two codes\n",
    "if success_3 and not success_5:\n",
    "    print(\"The failure rate of 'my' convolutional code is better than the control circuits.\")\n",
    "elif not success_3 and success_5:\n",
    "    print(\"The failure rate of the control convolutional code is better than 'my' circuit.\")\n",
    "else:\n",
    "    print(\"The failure rates of the two convolutional codes are the same.\")"
   ]
  },
  {
   "cell_type": "code",
   "execution_count": null,
   "metadata": {
    "id": "jYiq-rQE8D5n"
   },
   "outputs": [],
   "source": []
  }
 ],
 "metadata": {
  "colab": {
   "provenance": []
  },
  "kernelspec": {
   "display_name": "Python 3 (ipykernel)",
   "language": "python",
   "name": "python3"
  },
  "language_info": {
   "codemirror_mode": {
    "name": "ipython",
    "version": 3
   },
   "file_extension": ".py",
   "mimetype": "text/x-python",
   "name": "python",
   "nbconvert_exporter": "python",
   "pygments_lexer": "ipython3",
   "version": "3.9.12"
  }
 },
 "nbformat": 4,
 "nbformat_minor": 1
}
